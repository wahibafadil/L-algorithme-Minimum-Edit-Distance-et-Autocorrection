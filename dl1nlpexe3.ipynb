{
 "cells": [
  {
   "cell_type": "markdown",
   "metadata": {},
   "source": [
    "### Exercice 3 :\n",
    "##### Quel est le travail d'un système de correction automatique ?\n",
    "Un système de correction automatique change un mot mal orthographié en son orthographe correcte.\n",
    "##### Étapes pour la mise en place d'un système de correction automatique :\n",
    "1. Identifier le mot mal orthographié.\n",
    "2. Trouver des chaînes de caractères qui sont à n distances d'édition du mot mal orthographié.\n",
    "3. Filtrer les candidats suggérés pour ne retenir que ceux trouvés dans le vocabulaire.\n",
    "4. Classer les candidats filtrés en fonction des probabilités des mots.\n",
    "5. Choisir le candidat le plus probable.\n",
    "##### Identifier un mot mal orthographié : \n",
    "Un mot est mal orthographié s'il n'est pas trouvé dans le vocabulaire du corpus de texte avec lequel le système de correction automatique travaille .\n",
    "##### Trouver des chaînes qui sont à n distances d'édition : \n",
    "L'édition est une opération effectuée sur une chaîne de caractères pour la changer en une autre. Une distance d'édition est un comptage du nombre d'opérations effectuées sur un mot pour l'éditer.\n",
    "##### Types d'opérations d'édition :\n",
    "* INSERT \n",
    "* DELETE \n",
    "* SWAP\n",
    "* REPLACE \n",
    "##### Calcul des probabilités des mots : \n",
    "Les probabilités d'un mot sont calculées selon la formule suivante : P(w)= C(w)/V \n",
    "où:\n",
    "* P(w) est la probabilité d'un mot w\n",
    "* C(w) est le nombre de fois qu'un mot w apparaît dans le corpus\n",
    "* V est le nombre total de mots dans le corpus\n",
    "##### Minimun Edit Distance ( MED): \n",
    "\n",
    "La distance d'édition minimale est le nombre minimal de modifications nécessaires pour transformer une chaîne de caractères en une autre.\n",
    "\n",
    " "
   ]
  },
  {
   "cell_type": "markdown",
   "metadata": {},
   "source": []
  },
  {
   "cell_type": "code",
   "execution_count": 1,
   "metadata": {},
   "outputs": [],
   "source": [
    "import re\n",
    "import string\n",
    "from collections import Counter\n",
    "import numpy as np"
   ]
  },
  {
   "cell_type": "markdown",
   "metadata": {},
   "source": [
    "### Question 1 : \n",
    "process_data lit un fichier texte, extrait tous les mots, les convertit en minuscules pour assurer la cohérence, et retourne une liste de ces mots."
   ]
  },
  {
   "cell_type": "code",
   "execution_count": 2,
   "metadata": {},
   "outputs": [],
   "source": [
    "def process_data(corpus_file):\n",
    "  with open(corpus_file, \"r\") as file:\n",
    "    lines = file.readlines()\n",
    "    words = []\n",
    "    for line in lines:\n",
    "      words += re.findall(r'\\w+', line.lower())\n",
    "\n",
    "  return words"
   ]
  },
  {
   "cell_type": "code",
   "execution_count": 3,
   "metadata": {},
   "outputs": [
    {
     "name": "stdout",
     "output_type": "stream",
     "text": [
      "There are 1115585 total words in the corpus\n"
     ]
    }
   ],
   "source": [
    "words = process_data(\"big.txt\")\n",
    "print(f\"There are {len(words)} total words in the corpus\")"
   ]
  },
  {
   "cell_type": "markdown",
   "metadata": {},
   "source": [
    "#### Question 2 :\n",
    "la fonction get_vocabulary retourne le vocabulaire construit à partir d’un corpus passé en argument de la fonction."
   ]
  },
  {
   "cell_type": "code",
   "execution_count": 10,
   "metadata": {},
   "outputs": [],
   "source": [
    "def get_vocabulary(corpus_file):\n",
    "    words = process_data(corpus_file)\n",
    "    vocabs = set(words)\n",
    "    return vocabs"
   ]
  },
  {
   "cell_type": "code",
   "execution_count": 11,
   "metadata": {},
   "outputs": [
    {
     "name": "stdout",
     "output_type": "stream",
     "text": [
      "There are 32198 unique words in the vocabulary\n"
     ]
    }
   ],
   "source": [
    "vocabulary = get_vocabulary(\"big.txt\")\n",
    "print(f\"There are {len(vocabulary)} unique words in the vocabulary\")"
   ]
  },
  {
   "cell_type": "markdown",
   "metadata": {},
   "source": [
    "#### Question 3 :\n",
    "build_language_model construit et retourne un modèle de langue qui représente la probabilité d'apparition de chaque mot dans un corpus donné, basé sur la fréquence de ces mots dans le corpus."
   ]
  },
  {
   "cell_type": "code",
   "execution_count": 12,
   "metadata": {},
   "outputs": [],
   "source": [
    "def build_language_model(corpus_file):\n",
    "    words = process_data(corpus_file)\n",
    "    word_counts = Counter(words)\n",
    "    total_word_count = float(sum(word_counts.values()))\n",
    "    word_probas = {word: word_counts[word] / total_word_count for word in word_counts.keys()}\n",
    "    return word_probas"
   ]
  },
  {
   "cell_type": "code",
   "execution_count": 14,
   "metadata": {},
   "outputs": [
    {
     "name": "stdout",
     "output_type": "stream",
     "text": [
      "5.736900370657547e-05\n"
     ]
    }
   ],
   "source": [
    "language_model = build_language_model(\"big.txt\")\n",
    "print(language_model[\"dog\"])"
   ]
  },
  {
   "cell_type": "markdown",
   "metadata": {},
   "source": [
    "#### Question 4 :\n",
    "Implémentation des fcts : edits1 , edits2 et knownWord"
   ]
  },
  {
   "cell_type": "code",
   "execution_count": 15,
   "metadata": {},
   "outputs": [],
   "source": [
    "# edit1\n",
    "\n",
    "def edits1(word):\n",
    "    \"\"\"\n",
    "    Générer toutes les chaînes à une modification (insertion, suppression, substitution) de distance du mot `word`.\n",
    "    \"\"\"\n",
    "    def split(word):\n",
    "        return [(word[:i], word[i:]) for i in range(len(word) + 1)]\n",
    "\n",
    "    def delete(word):\n",
    "        return [L + R[1:] for L, R in split(word) if R]\n",
    "\n",
    "    def swap(word):\n",
    "        return [L + R[1] + R[0] + R[2:] for L, R in split(word) if len(R) > 1]\n",
    "\n",
    "    def replace(word):\n",
    "        letters = string.ascii_lowercase\n",
    "        return [L + c + R[1:] for L, R in split(word) if R for c in letters]\n",
    "\n",
    "    def insert(word):\n",
    "        letters = string.ascii_lowercase\n",
    "        return [L + c + R for L, R in split(word) for c in letters]\n",
    "\n",
    "    return set(delete(word) + swap(word) + replace(word) + insert(word))\n"
   ]
  },
  {
   "cell_type": "code",
   "execution_count": 17,
   "metadata": {},
   "outputs": [
    {
     "name": "stdout",
     "output_type": "stream",
     "text": [
      "Quelques modifications à une distance de 'cat':\n",
      "['qat', 'oat', 'cav', 'cats', 'vat', 'cabt', 'cal', 'catt', 'capt', 'ncat']\n"
     ]
    }
   ],
   "source": [
    "# Exemple d'utilisation de la fonction edits1\n",
    "edits1_exemple = \"cat\"\n",
    "modif = edits1(edits1_exemple)\n",
    "\n",
    "print(\"Quelques modifications à une distance de 'cat':\")\n",
    "print(list(modif)[:10])  # Afficher les 10 premières modifications pour l'exemple"
   ]
  },
  {
   "cell_type": "code",
   "execution_count": 18,
   "metadata": {},
   "outputs": [],
   "source": [
    "#edits2\n",
    "def edits2(word):\n",
    "    return set(e2 for e1 in edits1(word) for e2 in edits1(e1))\n"
   ]
  },
  {
   "cell_type": "code",
   "execution_count": 19,
   "metadata": {},
   "outputs": [
    {
     "name": "stdout",
     "output_type": "stream",
     "text": [
      "Quelques modifications à deux distances de 'cat':\n",
      "['caeh', 'citd', 'cozat', 'cavb', 'cakts', 'ckta', 'cvtw', 'cuo', 'wamt', 'cfatq']\n"
     ]
    }
   ],
   "source": [
    "# Exemple d'utilisation de la fonction edits2\n",
    "edits2_exemple = \"cat\"\n",
    "modif2 = edits2(edits2_exemple)\n",
    "\n",
    "print(\"Quelques modifications à deux distances de 'cat':\")\n",
    "print(list(modif2)[:10])  # Afficher les 10 premières modifications pour l'exemple\n"
   ]
  },
  {
   "cell_type": "code",
   "execution_count": 35,
   "metadata": {},
   "outputs": [],
   "source": [
    "# knownWord : filtrer une liste de mots pour ne garder que ceux présents dans le vocabulaire.\n",
    "def knownWord( words):\n",
    "    return set(w for w in words if w in vocabulary)\n"
   ]
  },
  {
   "cell_type": "markdown",
   "metadata": {},
   "source": [
    "##### Question 5 : \n",
    "La fonction candidates(word) pour générer des candidats de correction pour un mot donné.\n",
    "* param word: Mot à corriger\n",
    "* return: Ensemble de candidats pour la correction"
   ]
  },
  {
   "cell_type": "code",
   "execution_count": 40,
   "metadata": {},
   "outputs": [],
   "source": [
    "def candidates(word):\n",
    "    return (knownWord([word]) or knownWord(edits1(word)) or knownWord(edits2(word)) or [word])"
   ]
  },
  {
   "cell_type": "markdown",
   "metadata": {},
   "source": [
    "##### Question 6 :\n",
    "La fct correction(word,k ) pour trouver la ou les meilleures corrections pour un mot donné.\n",
    "* param word: Mot à corriger\n",
    "* param k: Nombre maximal de suggestions à retourner\n",
    "* return: Liste des meilleures corrections"
   ]
  },
  {
   "cell_type": "code",
   "execution_count": 43,
   "metadata": {},
   "outputs": [],
   "source": [
    "def correction(word, k=1):\n",
    "    \"Return the most probable spelling correction for word.\"\n",
    "    candidates = knownWord([word]) or knownWord(edits1(word)) or knownWord(edits2(word)) or [word]\n",
    "    best_guesses = sorted(candidates, key=language_model.get, reverse=True)[:k]\n",
    "    return best_guesses"
   ]
  },
  {
   "cell_type": "code",
   "execution_count": 44,
   "metadata": {},
   "outputs": [
    {
     "data": {
      "text/plain": [
       "['spelling']"
      ]
     },
     "execution_count": 44,
     "metadata": {},
     "output_type": "execute_result"
    }
   ],
   "source": [
    "correction('speling')"
   ]
  },
  {
   "cell_type": "code",
   "execution_count": 46,
   "metadata": {},
   "outputs": [
    {
     "data": {
      "text/plain": [
       "['corrected']"
      ]
     },
     "execution_count": 46,
     "metadata": {},
     "output_type": "execute_result"
    }
   ],
   "source": [
    "correction('korrectud')"
   ]
  }
 ],
 "metadata": {
  "kernelspec": {
   "display_name": "Python 3",
   "language": "python",
   "name": "python3"
  },
  "language_info": {
   "codemirror_mode": {
    "name": "ipython",
    "version": 3
   },
   "file_extension": ".py",
   "mimetype": "text/x-python",
   "name": "python",
   "nbconvert_exporter": "python",
   "pygments_lexer": "ipython3",
   "version": "3.11.0"
  }
 },
 "nbformat": 4,
 "nbformat_minor": 2
}
