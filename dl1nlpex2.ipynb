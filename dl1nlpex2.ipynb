{
 "cells": [
  {
   "cell_type": "markdown",
   "metadata": {},
   "source": [
    "### Exercice 1 :\n",
    "#### Question 1 :"
   ]
  },
  {
   "cell_type": "code",
   "execution_count": 26,
   "metadata": {},
   "outputs": [
    {
     "name": "stdout",
     "output_type": "stream",
     "text": [
      "La distance d'édition entre intention et execution est 8\n"
     ]
    }
   ],
   "source": [
    "def del_cost():\n",
    "    return 1\n",
    "\n",
    "def ins_cost():\n",
    "    return 1\n",
    "\n",
    "def sub_cost(c1, c2):\n",
    "    if c1 == c2: \n",
    "        return 0\n",
    "    else:\n",
    "        return 2\n",
    "\n",
    "def min_edit_distance(source, target):\n",
    "    n = len(source)\n",
    "    m = len(target)\n",
    "\n",
    "    # Création d'une matrice de taille (n+1)x(m+1)\n",
    "    distance = [[0] * (m + 1) for _ in range(n + 1)]\n",
    "\n",
    "    # Remplir la première colonne et la première ligne\n",
    "    for i in range(1, n + 1):\n",
    "        distance[i][0] = i\n",
    "    for j in range(1, m + 1):\n",
    "        distance[0][j] = j\n",
    "\n",
    "    # Calcul de la distance d'édition\n",
    "    for i in range(1, n + 1):\n",
    "        for j in range(1, m + 1):\n",
    "            if source[i - 1] == target[j - 1]:\n",
    "                cost = 0\n",
    "            else:\n",
    "                cost = sub_cost(source[i - 1], target[j - 1])\n",
    "\n",
    "            distance[i][j] = min(distance[i - 1][j] + del_cost(),   # Suppression\n",
    "                                 distance[i][j - 1] + ins_cost(),   # Insertion\n",
    "                                 distance[i - 1][j - 1] + cost)     # Substitution\n",
    "\n",
    "    return distance[n][m]\n",
    "\n",
    "# Exemple d'utilisation\n",
    "source = \"intention\"\n",
    "target = \"execution\"\n",
    "print(\"La distance d'édition entre\", source, \"et\", target, \"est\", min_edit_distance(source, target))\n",
    "\n"
   ]
  },
  {
   "cell_type": "markdown",
   "metadata": {},
   "source": [
    "#### Question 2 : "
   ]
  },
  {
   "cell_type": "code",
   "execution_count": 27,
   "metadata": {},
   "outputs": [
    {
     "name": "stdout",
     "output_type": "stream",
     "text": [
      "Distance: 8\n",
      "Opérations: ['del', 'del', 'del', None, 'ins', 'ins', 'ins', 'sub', None, None, None, None]\n"
     ]
    }
   ],
   "source": [
    "def min_edit_distance(source, target):\n",
    "    n = len(source)\n",
    "    m = len(target)\n",
    "\n",
    "    distance = [[0] * (m + 1) for _ in range(n + 1)]\n",
    "    backtrace = [[None] * (m + 1) for _ in range(n + 1)]\n",
    "\n",
    "    # Initialisation\n",
    "    for i in range(1, n + 1):\n",
    "        distance[i][0] = i\n",
    "        backtrace[i][0] = 'del'\n",
    "    for j in range(1, m + 1):\n",
    "        distance[0][j] = j\n",
    "        backtrace[0][j] = 'ins'\n",
    "\n",
    "    # Calcul de la matrice et enregistrement des opérations\n",
    "    for i in range(1, n + 1):\n",
    "        for j in range(1, m + 1):\n",
    "            if source[i - 1] == target[j - 1]:\n",
    "                cost = 0\n",
    "            else:\n",
    "                cost = sub_cost(source[i - 1], target[j - 1])\n",
    "\n",
    "            costs = [distance[i - 1][j] + del_cost(),  # Suppression\n",
    "                     distance[i][j - 1] + ins_cost(),  # Insertion\n",
    "                     distance[i - 1][j - 1] + cost]    # Substitution\n",
    "\n",
    "            min_cost = min(costs)\n",
    "            distance[i][j] = min_cost\n",
    "\n",
    "            # Ne suivre que les opérations avec un coût\n",
    "            if min_cost == costs[2] and cost > 0:\n",
    "                backtrace[i][j] = 'sub'\n",
    "            elif min_cost == costs[0]:\n",
    "                backtrace[i][j] = 'del'\n",
    "            elif min_cost == costs[1]:\n",
    "                backtrace[i][j] = 'ins'\n",
    "\n",
    "    # Backtrace pour trouver les opérations\n",
    "    i, j = n, m\n",
    "    operations = []\n",
    "    while i > 0 or j > 0:\n",
    "        operation = backtrace[i][j]\n",
    "        operations.append(operation)\n",
    "        if operation == 'del':\n",
    "            i -= 1\n",
    "        elif operation == 'ins':\n",
    "            j -= 1\n",
    "        else:  # sub\n",
    "            i -= 1\n",
    "            j -= 1\n",
    "\n",
    "    operations.reverse()\n",
    "    return distance[n][m], operations\n",
    "\n",
    "# Test\n",
    "source = \"intention\"\n",
    "target = \"execution\"\n",
    "distance, operations = min_edit_distance(source, target)\n",
    "print(\"Distance:\", distance)\n",
    "print(\"Opérations:\", operations)\n"
   ]
  },
  {
   "cell_type": "markdown",
   "metadata": {},
   "source": [
    "#### Question 3 :"
   ]
  },
  {
   "cell_type": "code",
   "execution_count": 28,
   "metadata": {},
   "outputs": [
    {
     "name": "stdout",
     "output_type": "stream",
     "text": [
      "Distance d'édition: 1\n"
     ]
    }
   ],
   "source": [
    " \n",
    "def load_qwerty_graph():\n",
    "    qwerty_graph = {'q': ['w', 'a'], 'w': ['q', 'a', 's', 'e'], 'e': ['w', 's', 'd', 'r'], 'r': ['e', 'd', 'f', 't'],\n",
    "                  't': ['r', 'f', 'g', 'y'], 'y': ['t', 'g', 'h', 'u'], 'u': ['y', 'h', 'j', 'i'],\n",
    "                  'i': ['u', 'j', 'k', 'o'],\n",
    "                  'o': ['i', 'k', 'l', 'p'], 'p': ['o', 'l'], 'a': ['q', 'w', 's', 'z'],\n",
    "                  's': ['a', 'w', 'e', 'd', 'z', 'x'],\n",
    "                  'd': ['s', 'e', 'r', 'f', 'c', 'x'], 'f': ['d', 'r', 't', 'g', 'c', 'v'],\n",
    "                  'g': ['f', 't', 'y', 'h', 'v', 'b'],\n",
    "                  'h': ['g', 'y', 'u', 'b', 'n', 'j'], 'j': ['h', 'u', 'i', 'k', 'n', 'm'],\n",
    "                  'k': ['j', 'i', 'l', 'm'],\n",
    "                  'l': ['k', 'o', 'p'], 'z': ['a', 's', 'x'], 'x': ['z', 's', 'd', 'c'], 'c': ['x', 'd', 'f', 'v'],\n",
    "                  'v': ['c', 'f', 'g', 'b'], 'b': ['v', 'g', 'h', 'n'], 'n': ['b', 'h', 'j', 'm'],\n",
    "                  'm': ['n', 'j', 'k']}\n",
    "    return qwerty_graph\n",
    "\n",
    "qwerty_graph = load_qwerty_graph()\n",
    "\n",
    "def sub_cost_adjacent(c1, c2, qwerty_graph, base_cost=2, adjacent_cost=1):\n",
    "    if c1 == c2: \n",
    "        return 0\n",
    "    elif c2 in qwerty_graph.get(c1, []):\n",
    "        return adjacent_cost\n",
    "    else:\n",
    "        return base_cost\n",
    "\n",
    "def del_cost():\n",
    "    return 1\n",
    "\n",
    "def ins_cost():\n",
    "    return 1\n",
    "\n",
    "def min_edit_distance_adjacent(source, target, qwerty_graph):\n",
    "    n = len(source)\n",
    "    m = len(target)\n",
    "    distance = [[0] * (m + 1) for _ in range(n + 1)]\n",
    "\n",
    "    for i in range(n + 1):\n",
    "        distance[i][0] = i\n",
    "    for j in range(m + 1):\n",
    "        distance[0][j] = j\n",
    "\n",
    "    for i in range(1, n + 1):\n",
    "        for j in range(1, m + 1):\n",
    "            cost = sub_cost_adjacent(source[i - 1], target[j - 1], qwerty_graph)\n",
    "            distance[i][j] = min(distance[i - 1][j] + del_cost(),\n",
    "                                 distance[i][j - 1] + ins_cost(),\n",
    "                                 distance[i - 1][j - 1] + cost)\n",
    "    return distance[n][m]\n",
    "\n",
    "# Exemple d'utilisation\n",
    "source = \"exemple\"\n",
    "target = \"exwmple\"\n",
    "print(\"Distance d'édition:\", min_edit_distance_adjacent(source, target, qwerty_graph))\n"
   ]
  },
  {
   "cell_type": "markdown",
   "metadata": {},
   "source": [
    "#### Question 4"
   ]
  },
  {
   "cell_type": "code",
   "execution_count": 31,
   "metadata": {},
   "outputs": [
    {
     "name": "stdout",
     "output_type": "stream",
     "text": [
      "Corrections suggérées: [('example', 1), ('empale', 2), ('temple', 2)]\n"
     ]
    }
   ],
   "source": [
    "#la fct de correction orthographique\n",
    "import nltk\n",
    "from nltk.corpus import wordnet as wn\n",
    "\n",
    "dictionary = set(w.lower() for w in wn.all_lemma_names())\n",
    "\n",
    "def spell_correct(word, dictionary, max_distance=2):\n",
    "    corrections = []\n",
    "    for dict_word in dictionary:\n",
    "        distance = min_edit_distance_adjacent(word, dict_word, qwerty_graph)\n",
    "        if distance <= max_distance:\n",
    "            corrections.append((dict_word, distance))\n",
    "    \n",
    "    corrections.sort(key=lambda x: (x[1], x[0]))\n",
    "    return corrections[:5]\n",
    "\n",
    "# Exemple d'utilisation\n",
    "word = \"exmple\"  # Un mot mal orthographié\n",
    "print(\"Corrections suggérées:\", spell_correct(word, dictionary))\n"
   ]
  },
  {
   "cell_type": "markdown",
   "metadata": {},
   "source": [
    "#### Question 5\n",
    "Optimisation "
   ]
  },
  {
   "cell_type": "code",
   "execution_count": 34,
   "metadata": {},
   "outputs": [
    {
     "name": "stdout",
     "output_type": "stream",
     "text": [
      "Corrections optimisées: [('halo', 2), ('hilo', 2), ('hugo', 2), ('hypo', 2)]\n"
     ]
    }
   ],
   "source": [
    "import nltk\n",
    "from nltk.corpus import wordnet as wn\n",
    "\n",
    "# Charger le dictionnaire à partir de WordNet\n",
    "dictionary = set(w.lower() for w in wn.all_lemma_names())\n",
    "\n",
    "def spell_correct_optimized(word, dictionary, qwerty_graph, max_distance=2):\n",
    "    corrections = []\n",
    "    word_length = len(word)\n",
    "    first_letter = word[0].lower()\n",
    "    for dict_word in dictionary:\n",
    "        # Comparaison de la première lettre\n",
    "        if dict_word[0] == first_letter:\n",
    "            # Comparaison de la longueur\n",
    "            if abs(len(dict_word) - word_length) <= 1:\n",
    "                distance = min_edit_distance_adjacent(word, dict_word, qwerty_graph)\n",
    "                if distance <= max_distance:\n",
    "                    corrections.append((dict_word, distance))\n",
    "    \n",
    "    corrections.sort(key=lambda x: (x[1], x[0]))\n",
    "    return corrections[:5]\n",
    "\n",
    "# Exemple d'utilisation\n",
    "word = \"hglo\"  # Un mot mal orthographié\n",
    "qwerty_graph = load_qwerty_graph()  # Assurez-vous que cette fonction est définie\n",
    "print(\"Corrections optimisées:\", spell_correct_optimized(word, dictionary, qwerty_graph))\n"
   ]
  },
  {
   "cell_type": "code",
   "execution_count": null,
   "metadata": {},
   "outputs": [],
   "source": [
    "#Avec Soundex\n",
    "import nltk\n",
    "from nltk.corpus import wordnet as wn\n",
    "import fuzzy\n",
    "\n",
    "# Charger le dictionnaire à partir de WordNet\n",
    "dictionary = set(w.lower() for w in wn.all_lemma_names())\n",
    "\n",
    "# Initialiser Soundex\n",
    "soundex = fuzzy.Soundex(4)\n",
    "\n",
    "def spell_correct_optimized(word, dictionary, qwerty_graph, max_distance=2):\n",
    "    corrections = []\n",
    "    word_length = len(word)\n",
    "    first_letter = word[0].lower()\n",
    "    word_soundex = soundex(word)\n",
    "\n",
    "    for dict_word in dictionary:\n",
    "        # Comparaison de la première lettre\n",
    "        if dict_word[0] == first_letter:\n",
    "            # Comparaison de la longueur\n",
    "            if abs(len(dict_word) - word_length) <= 1:\n",
    "                # Comparaison des sons via Soundex\n",
    "                if soundex(dict_word) == word_soundex:\n",
    "                    distance = min_edit_distance_adjacent(word, dict_word, qwerty_graph)\n",
    "                    if distance <= max_distance:\n",
    "                        corrections.append((dict_word, distance))\n",
    "    \n",
    "    corrections.sort(key=lambda x: (x[1], x[0]))\n",
    "    return corrections[:5]\n",
    "\n",
    "# Exemple d'utilisation\n",
    "word = \"exmple\"  # Un mot mal orthographié\n",
    "qwerty_graph = load_qwerty_graph()  # Assurez-vous que cette fonction est définie\n",
    "print(\"Corrections optimisées:\", spell_correct_optimized(word, dictionary, qwerty_graph))\n"
   ]
  }
 ],
 "metadata": {
  "kernelspec": {
   "display_name": "Python 3",
   "language": "python",
   "name": "python3"
  },
  "language_info": {
   "codemirror_mode": {
    "name": "ipython",
    "version": 3
   },
   "file_extension": ".py",
   "mimetype": "text/x-python",
   "name": "python",
   "nbconvert_exporter": "python",
   "pygments_lexer": "ipython3",
   "version": "3.11.0"
  }
 },
 "nbformat": 4,
 "nbformat_minor": 2
}
